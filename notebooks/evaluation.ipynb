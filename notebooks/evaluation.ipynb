{
 "cells": [
  {
   "cell_type": "code",
   "execution_count": 1,
   "id": "5ac485cf",
   "metadata": {},
   "outputs": [],
   "source": [
    "# Import Required Libraries\n",
    "import pandas as pd\n",
    "import matplotlib.pyplot as plt\n",
    "import seaborn as sns\n",
    "import joblib\n",
    "from sklearn.model_selection import train_test_split\n",
    "from sklearn.metrics import accuracy_score, classification_report, confusion_matrix"
   ]
  },
  {
   "cell_type": "code",
   "execution_count": 2,
   "id": "a2d35187",
   "metadata": {},
   "outputs": [],
   "source": [
    "# Load Preprocessed Dataset\n",
    "data = pd.read_csv(\"../data/income_cleaned.csv\")"
   ]
  },
  {
   "cell_type": "code",
   "execution_count": 3,
   "metadata": {},
   "outputs": [],
   "source": [
    "# Separate Features and Target Variable\n",
    "X = data.drop(\"income\", axis=1)\n",
    "y = data[\"income\"]"
   ]
  },
  {
   "cell_type": "code",
   "execution_count": 4,
   "id": "67efaa6e",
   "metadata": {},
   "outputs": [],
   "source": [
    "# Split Data into Training and Test Sets\n",
    "X_train, X_test, y_train, y_test = train_test_split(\n",
    "    X, y, test_size=0.2, random_state=42, stratify=y\n",
    ")"
   ]
  },
  {
   "cell_type": "code",
   "execution_count": 5,
   "metadata": {},
   "outputs": [],
   "source": [
    "# Load the Trained Model\n",
    "best_model = joblib.load(\"../models/best_income_model_pipeline.pkl\")"
   ]
  },
  {
   "cell_type": "code",
   "execution_count": 6,
   "id": "6fc6dcf2",
   "metadata": {},
   "outputs": [],
   "source": [
    "# Generate Predictions\n",
    "y_pred = best_model.predict(X_test)"
   ]
  },
  {
   "cell_type": "code",
   "execution_count": 7,
   "metadata": {},
   "outputs": [
    {
     "name": "stdout",
     "output_type": "stream",
     "text": [
      "✅ Test Accuracy: 0.8247\n",
      "\n",
      "Classification Report:\n",
      "\n",
      "              precision    recall  f1-score   support\n",
      "\n",
      "           0       0.87      0.89      0.88      4625\n",
      "           1       0.68      0.63      0.65      1632\n",
      "\n",
      "    accuracy                           0.82      6257\n",
      "   macro avg       0.77      0.76      0.77      6257\n",
      "weighted avg       0.82      0.82      0.82      6257\n",
      "\n"
     ]
    }
   ],
   "source": [
    "# Calculate Performance Metrics\n",
    "acc = accuracy_score(y_test, y_pred)\n",
    "print(f\"✅ Test Accuracy: {acc:.4f}\")\n",
    "\n",
    "# Generate detailed classification report \n",
    "print(\"\\nClassification Report:\\n\")\n",
    "print(classification_report(y_test, y_pred))"
   ]
  },
  {
   "cell_type": "code",
   "execution_count": 8,
   "id": "ed6c8e9c",
   "metadata": {},
   "outputs": [
    {
     "data": {
      "image/png": "[encoded data removed]",
      "text/plain": [
       "<Figure size 600x400 with 2 Axes>"
      ]
     },
     "metadata": {},
     "output_type": "display_data"
    }
   ],
   "source": [
    "# Create a confusion matrix to visualize prediction performance\n",
    "cm = confusion_matrix(y_test, y_pred)\n",
    "\n",
    "plt.figure(figsize=(6,4))\n",
    "sns.heatmap(cm, annot=True, fmt=\"d\", cmap=\"Blues\", xticklabels=[\"<=50K\",\" >50K\"], yticklabels=[\"<=50K\",\" >50K\"])\n",
    "plt.xlabel(\"Predicted\")\n",
    "plt.ylabel(\"Actual\")\n",
    "plt.title(\"Confusion Matrix\")\n",
    "plt.show()"
   ]
  },
  {
   "cell_type": "code",
   "execution_count": 9,
   "id": "2f147ce6",
   "metadata": {},
   "outputs": [
    {
     "name": "stdout",
     "output_type": "stream",
     "text": [
      "\n",
      "ℹ️ Feature importance is not available for this model.\n"
     ]
    }
   ],
   "source": [
    "# Analyze Feature Importance (If Available)\n",
    "\n",
    "if hasattr(best_model, \"feature_importances_\"):\n",
    "    feature_importances = pd.Series(best_model.feature_importances_, index=X.columns)\n",
    "    top_features = feature_importances.sort_values(ascending=False).head(10)\n",
    "\n",
    "    plt.figure(figsize=(8,5))\n",
    "    sns.barplot(x=top_features.values, y=top_features.index, palette=\"viridis\")\n",
    "    plt.title(\"Top 10 Important Features\")\n",
    "    plt.xlabel(\"Importance Score\")\n",
    "    plt.ylabel(\"Feature\")\n",
    "    plt.show()\n",
    "else:\n",
    "    print(\"\\nℹ️ Feature importance is not available for this model.\")"
   ]
  },
  {
   "cell_type": "code",
   "execution_count": 10,
   "id": "0cb5854d",
   "metadata": {},
   "outputs": [],
   "source": [
    "# Visualize Logistic Regression Coefficients\n",
    "if hasattr(best_model, \"coef_\"):\n",
    "    coefficients = pd.Series(best_model.coef_[0], index=X.columns)\n",
    "    # Get top coefficients by absolute value (both positive and negative influence)\n",
    "    top_coeffs = coefficients.abs().sort_values(ascending=False).head(10).index\n",
    "    top_coeffs_values = coefficients[top_coeffs]\n",
    "    \n",
    "    plt.figure(figsize=(10,6))\n",
    "    colors = ['red' if c < 0 else 'green' for c in top_coeffs_values]\n",
    "    sns.barplot(x=top_coeffs_values, y=top_coeffs, palette=colors)\n",
    "    plt.title(\"Top 10 Features by Coefficient Magnitude\")\n",
    "    plt.xlabel(\"Coefficient Value\")\n",
    "    plt.ylabel(\"Feature\")\n",
    "    plt.axvline(x=0, color='gray', linestyle='--')\n",
    "    plt.show()"
   ]
  },
  {
   "cell_type": "code",
   "execution_count": null,
   "id": "4c5fff53",
   "metadata": {},
   "outputs": [],
   "source": []
  }
 ],
 "metadata": {
  "kernelspec": {
   "display_name": "Python 3",
   "language": "python",
   "name": "python3"
  },
  "language_info": {
   "codemirror_mode": {
    "name": "ipython",
    "version": 3
   },
   "file_extension": ".py",
   "mimetype": "text/x-python",
   "name": "python",
   "nbconvert_exporter": "python",
   "pygments_lexer": "ipython3",
   "version": "3.13.3"
  }
 },
 "nbformat": 4,
 "nbformat_minor": 5
}
