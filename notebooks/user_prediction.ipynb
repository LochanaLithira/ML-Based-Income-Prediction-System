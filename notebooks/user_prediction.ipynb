{
 "cells": [
  {
   "cell_type": "code",
   "execution_count": 88,
   "id": "55cbbf39",
   "metadata": {},
   "outputs": [],
   "source": [
    "import pandas as pd\n",
    "import joblib"
   ]
  },
  {
   "cell_type": "code",
   "execution_count": 89,
   "id": "3f3d513c",
   "metadata": {},
   "outputs": [],
   "source": [
    "pipeline_path = \"../models/best_income_model_pipeline.pkl\"\n",
    "pipeline = joblib.load(pipeline_path)\n"
   ]
  },
  {
   "cell_type": "code",
   "execution_count": 90,
   "id": "51b2fa96",
   "metadata": {},
   "outputs": [],
   "source": [
    "def predict_income(user_input: dict):\n",
    "    \"\"\"\n",
    "    Predicts income class (<=50K / >50K) and probability based on user input.\n",
    "\n",
    "    Parameters:\n",
    "        user_input (dict): Keys = feature names, Values = user-provided values\n",
    "\n",
    "    Returns:\n",
    "        prediction (str): \"<=50K\" or \">50K\"\n",
    "        probability (float): Probability of income >50K\n",
    "    \"\"\"\n",
    "    # Convert input dict to DataFrame\n",
    "    input_df = pd.DataFrame([user_input])\n",
    "    \n",
    "    # Use pipeline to predict\n",
    "    pred_class = pipeline.predict(input_df)[0]\n",
    "    pred_prob = pipeline.predict_proba(input_df)[0][1]  # probability of >50K\n",
    "    \n",
    "    return (\"<=50K\" if pred_class == 0 else \">50K\"), pred_prob"
   ]
  },
  {
   "cell_type": "code",
   "execution_count": 91,
   "id": "cab2e1e3",
   "metadata": {},
   "outputs": [],
   "source": [
    "example_input = {\n",
    "    \"age\": 44,\n",
    "    \"capital-gain\": 7688,\n",
    "    \"capital-loss\": 0.0,\n",
    "    \"hours-per-week\": 40,\n",
    "    \"workclass\": \"Private\",\n",
    "    \"education\": \"Undergraduate\",\n",
    "    \"marital-status\": \"Married\",\n",
    "    \"occupation\": \"Blue collar\",\n",
    "    \"relationship\": \"Partnered\",\n",
    "    \"gender\": \"Male\",\n",
    "}"
   ]
  },
  {
   "cell_type": "code",
   "execution_count": 92,
   "id": "cf2ae16d",
   "metadata": {},
   "outputs": [
    {
     "name": "stdout",
     "output_type": "stream",
     "text": [
      "Income Prediction: More than $50K\n",
      "Confidence of earning >$50K: 100.00%\n",
      "\n",
      "--- Prediction Details ---\n",
      "Raw prediction: >50K\n",
      "Probability of >50K: 1.0000\n",
      "Probability of ≤50K: 0.0000\n"
     ]
    }
   ],
   "source": [
    "prediction, probability = predict_income(example_input)\n",
    "print(f\"Income Prediction: {'More than $50K' if prediction == '>50K' else 'Less than or equal to $50K'}\")\n",
    "\n",
    "# Display the confidence based on the prediction\n",
    "if prediction == \">50K\":\n",
    "    # For >50K predictions, show the actual probability\n",
    "    print(f\"Confidence of earning >$50K: {probability:.2%}\")\n",
    "else:\n",
    "    # For ≤50K predictions, show the inverse probability (1-probability)\n",
    "    print(f\"Confidence of earning ≤$50K: {(1-probability):.2%}\")\n",
    "\n",
    "print(\"\\n--- Prediction Details ---\")\n",
    "print(f\"Raw prediction: {prediction}\")\n",
    "print(f\"Probability of >50K: {probability:.4f}\")\n",
    "print(f\"Probability of ≤50K: {1-probability:.4f}\")"
   ]
  },
  {
   "cell_type": "code",
   "execution_count": null,
   "metadata": {},
   "outputs": [],
   "source": []
  }
 ],
 "metadata": {
  "kernelspec": {
   "display_name": "Python 3",
   "language": "python",
   "name": "python3"
  },
  "language_info": {
   "codemirror_mode": {
    "name": "ipython",
    "version": 3
   },
   "file_extension": ".py",
   "mimetype": "text/x-python",
   "name": "python",
   "nbconvert_exporter": "python",
   "pygments_lexer": "ipython3",
   "version": "3.13.3"
  }
 },
 "nbformat": 4,
 "nbformat_minor": 5
}
