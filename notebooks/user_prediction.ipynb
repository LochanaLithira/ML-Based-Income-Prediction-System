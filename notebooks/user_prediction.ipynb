{
 "cells": [
  {
   "cell_type": "code",
   "execution_count": 6,
   "id": "55cbbf39",
   "metadata": {},
   "outputs": [],
   "source": [
    "import pandas as pd\n",
    "import joblib"
   ]
  },
  {
   "cell_type": "code",
   "execution_count": 7,
   "id": "3f3d513c",
   "metadata": {},
   "outputs": [],
   "source": [
    "pipeline_path = \"../models/best_income_model_pipeline.pkl\"\n",
    "pipeline = joblib.load(pipeline_path)\n"
   ]
  },
  {
   "cell_type": "code",
   "execution_count": 8,
   "metadata": {},
   "outputs": [],
   "source": [
    "def predict_income(user_input: dict):\n",
    "    \"\"\"\n",
    "    Predicts income class (<=50K / >50K) and probability based on user input.\n",
    "\n",
    "    Parameters:\n",
    "        user_input (dict): Keys = feature names, Values = user-provided values\n",
    "\n",
    "    Returns:\n",
    "        prediction (str): \"<=50K\" or \">50K\"\n",
    "        probability (float): Probability of income >50K\n",
    "    \"\"\"\n",
    "    # Convert input dict to DataFrame\n",
    "    input_df = pd.DataFrame([user_input])\n",
    "    \n",
    "    # Use pipeline to predict\n",
    "    pred_class = pipeline.predict(input_df)[0]\n",
    "    pred_prob = pipeline.predict_proba(input_df)[0][1]  # probability of >50K\n",
    "    \n",
    "    return (\"<=50K\" if pred_class == 0 else \">50K\"), pred_prob"
   ]
  },
  {
   "cell_type": "code",
   "execution_count": 9,
   "metadata": {},
   "outputs": [],
   "source": [
    "example_input = {\n",
    "    \"age\": 35,\n",
    "    \"capital-gain\": 15000,\n",
    "    \"capital-loss\": 0,\n",
    "    \"hours-per-week\": 40,\n",
    "    \"workclass\": \"Private\",\n",
    "    \"education\": \"Bachelors\",\n",
    "    \"marital-status\": \"Married-civ-spouse\",\n",
    "    \"occupation\": \"Exec-managerial\",\n",
    "    \"relationship\": \"Husband\",\n",
    "    \"gender\": \"Male\",\n",
    "}"
   ]
  },
  {
   "cell_type": "code",
   "execution_count": 10,
   "id": "cf2ae16d",
   "metadata": {},
   "outputs": [
    {
     "name": "stdout",
     "output_type": "stream",
     "text": [
      "Predicted Income: >50K\n",
      "Probability of >50K: 0.61\n"
     ]
    }
   ],
   "source": [
    "prediction, probability = predict_income(example_input)\n",
    "print(f\"Predicted Income: {prediction}\")\n",
    "print(f\"Probability of >50K: {probability:.2f}\")"
   ]
  },
  {
   "cell_type": "code",
   "execution_count": null,
   "metadata": {},
   "outputs": [],
   "source": []
  }
 ],
 "metadata": {
  "kernelspec": {
   "display_name": ".venv (3.13.3)",
   "language": "python",
   "name": "python3"
  },
  "language_info": {
   "codemirror_mode": {
    "name": "ipython",
    "version": 3
   },
   "file_extension": ".py",
   "mimetype": "text/x-python",
   "name": "python",
   "nbconvert_exporter": "python",
   "pygments_lexer": "ipython3",
   "version": "3.13.3"
  }
 },
 "nbformat": 4,
 "nbformat_minor": 5
}
