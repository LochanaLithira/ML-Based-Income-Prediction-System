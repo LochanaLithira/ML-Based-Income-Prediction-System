{
 "cells": [
  {
   "cell_type": "code",
   "execution_count": 45,
   "id": "7af566de",
   "metadata": {},
   "outputs": [],
   "source": [
    "# Import Required Libraries\n",
    "import pandas as pd\n",
    "import numpy as np\n",
    "from sklearn.preprocessing import StandardScaler"
   ]
  },
  {
   "cell_type": "code",
   "execution_count": 46,
   "id": "fcdccc91",
   "metadata": {},
   "outputs": [
    {
     "name": "stdout",
     "output_type": "stream",
     "text": [
      "Initial shape: (48842, 15)\n"
     ]
    }
   ],
   "source": [
    "# Load the Dataset\n",
    "data = pd.read_csv(\"../data/income.csv\")\n",
    "print(\"Initial shape:\", data.shape)"
   ]
  },
  {
   "cell_type": "code",
   "execution_count": 47,
   "id": "56df5ee5",
   "metadata": {},
   "outputs": [
    {
     "name": "stdout",
     "output_type": "stream",
     "text": [
      "Shape after removing duplicates: (48790, 15)\n"
     ]
    }
   ],
   "source": [
    "# Remove Duplicate Entries\n",
    "data = data.drop_duplicates()\n",
    "print(\"Shape after removing duplicates:\", data.shape)"
   ]
  },
  {
   "cell_type": "code",
   "execution_count": 48,
   "metadata": {},
   "outputs": [
    {
     "name": "stdout",
     "output_type": "stream",
     "text": [
      "Missing values after handling:\n",
      " age                0\n",
      "workclass          0\n",
      "fnlwgt             0\n",
      "education          0\n",
      "educational-num    0\n",
      "marital-status     0\n",
      "occupation         0\n",
      "relationship       0\n",
      "race               0\n",
      "gender             0\n",
      "capital-gain       0\n",
      "capital-loss       0\n",
      "hours-per-week     0\n",
      "native-country     0\n",
      "income             0\n",
      "dtype: int64\n"
     ]
    }
   ],
   "source": [
    "# Handle Missing and Categorical Data\n",
    "# Replace placeholder values (?) with proper NaN values \n",
    "data = data.replace(\"?\", np.nan)\n",
    "\n",
    "# Define categorical columns for processing\n",
    "categorical_cols = [\"workclass\", \"education\", \"marital-status\", \n",
    "                    \"occupation\", \"relationship\", \"race\", \n",
    "                    \"gender\", \"native-country\"]\n",
    "\n",
    "# Fill missing categorical values with \"Unknown\" instead of dropping rows\n",
    "for col in categorical_cols:\n",
    "    data[col] = data[col].fillna(\"Unknown\")\n",
    "\n",
    "# Convert income target variable to binary format (1 for >50K, 0 for <=50K)\n",
    "data[\"income\"] = data[\"income\"].astype(str).str.strip()\n",
    "data[\"income\"] = data[\"income\"].apply(lambda x: 1 if x == \">50K\" else 0)\n",
    "\n",
    "# Verify no missing values remain in the dataset\n",
    "print(\"Missing values after handling:\\n\", data.isnull().sum())"
   ]
  },
  {
   "cell_type": "code",
   "execution_count": 49,
   "id": "a1880112",
   "metadata": {},
   "outputs": [
    {
     "name": "stdout",
     "output_type": "stream",
     "text": [
      "age: removed 215 outliers\n",
      "fnlwgt: removed 1452 outliers\n",
      "educational-num: removed 1663 outliers\n",
      "capital-gain: removed 3795 outliers\n",
      "capital-loss: removed 2173 outliers\n",
      "hours-per-week: removed 10969 outliers\n"
     ]
    }
   ],
   "source": [
    "# Handle Outliers in Numeric Features\n",
    "# Define numeric columns that need outlier treatment\n",
    "numeric_cols = [\"age\", \"fnlwgt\", \"educational-num\", \n",
    "                \"capital-gain\", \"capital-loss\", \"hours-per-week\"]\n",
    "\n",
    "# Define function to remove outliers using IQR method\n",
    "def remove_outliers_iqr(df, col):\n",
    "    # Calculate first and third quartiles\n",
    "    Q1 = df[col].quantile(0.25)\n",
    "    Q3 = df[col].quantile(0.75)\n",
    "    # Calculate interquartile range\n",
    "    IQR = Q3 - Q1\n",
    "    # Define bounds for outlier detection\n",
    "    lower = Q1 - 1.5 * IQR\n",
    "    upper = Q3 + 1.5 * IQR\n",
    "    # Return only rows within the acceptable range\n",
    "    return df[(df[col] >= lower) & (df[col] <= upper)]\n",
    "\n",
    "# Apply outlier removal to each numeric column\n",
    "for col in numeric_cols:\n",
    "    before = data.shape[0]\n",
    "    data = remove_outliers_iqr(data, col)\n",
    "    after = data.shape[0]\n",
    "    print(f\"{col}: removed {before - after} outliers\")"
   ]
  },
  {
   "cell_type": "code",
   "execution_count": 50,
   "id": "b85e7208",
   "metadata": {},
   "outputs": [
    {
     "name": "stdout",
     "output_type": "stream",
     "text": [
      "Shape after One-Hot Encoding: (28523, 96)\n"
     ]
    }
   ],
   "source": [
    "# Encode Categorical Variables\n",
    "data = pd.get_dummies(data, columns=categorical_cols, drop_first=True)\n",
    "print(\"Shape after One-Hot Encoding:\", data.shape)"
   ]
  },
  {
   "cell_type": "code",
   "execution_count": 51,
   "id": "f661e217",
   "metadata": {},
   "outputs": [],
   "source": [
    "# Standardize Numeric Features\n",
    "scaler = StandardScaler()\n",
    "data[numeric_cols] = scaler.fit_transform(data[numeric_cols])"
   ]
  },
  {
   "cell_type": "code",
   "execution_count": 52,
   "metadata": {},
   "outputs": [
    {
     "name": "stdout",
     "output_type": "stream",
     "text": [
      "\n",
      "Final dataset shape: (28523, 96)\n",
      "        age    fnlwgt  educational-num  capital-gain  capital-loss  \\\n",
      "0 -1.081254  0.532649        -1.510762           0.0           0.0   \n",
      "1 -0.004024 -1.041884        -0.579970           0.0           0.0   \n",
      "2 -0.832663  1.798696         0.816217           0.0           0.0   \n",
      "6 -0.749799  0.535223        -0.579970           0.0           0.0   \n",
      "8 -1.164118  2.174732        -0.114575           0.0           0.0   \n",
      "\n",
      "   hours-per-week  income  workclass_Local-gov  workclass_Never-worked  \\\n",
      "0       -0.371355       0                False                   False   \n",
      "1        2.153655       0                False                   False   \n",
      "2       -0.371355       1                 True                   False   \n",
      "6       -0.371355       0                False                   False   \n",
      "8       -0.371355       0                False                   False   \n",
      "\n",
      "   workclass_Private  ...  native-country_Puerto-Rico  \\\n",
      "0               True  ...                       False   \n",
      "1               True  ...                       False   \n",
      "2              False  ...                       False   \n",
      "6              False  ...                       False   \n",
      "8               True  ...                       False   \n",
      "\n",
      "   native-country_Scotland  native-country_South  native-country_Taiwan  \\\n",
      "0                    False                 False                  False   \n",
      "1                    False                 False                  False   \n",
      "2                    False                 False                  False   \n",
      "6                    False                 False                  False   \n",
      "8                    False                 False                  False   \n",
      "\n",
      "   native-country_Thailand  native-country_Trinadad&Tobago  \\\n",
      "0                    False                           False   \n",
      "1                    False                           False   \n",
      "2                    False                           False   \n",
      "6                    False                           False   \n",
      "8                    False                           False   \n",
      "\n",
      "   native-country_United-States  native-country_Unknown  \\\n",
      "0                          True                   False   \n",
      "1                          True                   False   \n",
      "2                          True                   False   \n",
      "6                          True                   False   \n",
      "8                          True                   False   \n",
      "\n",
      "   native-country_Vietnam  native-country_Yugoslavia  \n",
      "0                   False                      False  \n",
      "1                   False                      False  \n",
      "2                   False                      False  \n",
      "6                   False                      False  \n",
      "8                   False                      False  \n",
      "\n",
      "[5 rows x 96 columns]\n"
     ]
    }
   ],
   "source": [
    "# Verify Final Dataset\n",
    "print(\"\\nFinal dataset shape:\", data.shape)\n",
    "print(data.head())"
   ]
  },
  {
   "cell_type": "code",
   "execution_count": 53,
   "id": "3ac2ac48",
   "metadata": {},
   "outputs": [
    {
     "name": "stdout",
     "output_type": "stream",
     "text": [
      "\n",
      "✅ Cleaned dataset saved as '../data/income_cleaned.csv'\n"
     ]
    }
   ],
   "source": [
    "# Save Preprocessed Dataset\n",
    "data.to_csv(\"../data/income_cleaned.csv\", index=False)\n",
    "print(\"\\n✅ Cleaned dataset saved as '../data/income_cleaned.csv'\")"
   ]
  },
  {
   "cell_type": "code",
   "execution_count": null,
   "metadata": {},
   "outputs": [],
   "source": []
  },
  {
   "cell_type": "code",
   "execution_count": null,
   "id": "d28d3e6c",
   "metadata": {},
   "outputs": [],
   "source": []
  },
  {
   "cell_type": "code",
   "execution_count": null,
   "metadata": {},
   "outputs": [],
   "source": []
  }
 ],
 "metadata": {
  "kernelspec": {
   "display_name": ".venv (3.13.3)",
   "language": "python",
   "name": "python3"
  },
  "language_info": {
   "codemirror_mode": {
    "name": "ipython",
    "version": 3
   },
   "file_extension": ".py",
   "mimetype": "text/x-python",
   "name": "python",
   "nbconvert_exporter": "python",
   "pygments_lexer": "ipython3",
   "version": "3.13.3"
  }
 },
 "nbformat": 4,
 "nbformat_minor": 5
}
