{
 "cells": [
  {
   "cell_type": "code",
   "execution_count": 101,
   "id": "7af566de",
   "metadata": {},
   "outputs": [],
   "source": [
    "# Import Required Libraries\n",
    "import pandas as pd\n",
    "import numpy as np"
   ]
  },
  {
   "cell_type": "code",
   "execution_count": 102,
   "id": "fcdccc91",
   "metadata": {},
   "outputs": [
    {
     "name": "stdout",
     "output_type": "stream",
     "text": [
      "Initial shape: (48842, 15)\n"
     ]
    }
   ],
   "source": [
    "# Load the Dataset\n",
    "data = pd.read_csv(\"../data/income.csv\")\n",
    "print(\"Initial shape:\", data.shape)"
   ]
  },
  {
   "cell_type": "code",
   "execution_count": 103,
   "id": "22d64e42",
   "metadata": {},
   "outputs": [],
   "source": [
    "selected_features = [\"age\",\"workclass\",\"education\",\"marital-status\",\"occupation\",\"relationship\",\"gender\",\"hours-per-week\",\"capital-gain\",\"capital-loss\",\"income\"]\n",
    "data = data[selected_features]"
   ]
  },
  {
   "cell_type": "code",
   "execution_count": 104,
   "id": "56df5ee5",
   "metadata": {},
   "outputs": [
    {
     "name": "stdout",
     "output_type": "stream",
     "text": [
      "Shape after removing duplicates: (40437, 11)\n"
     ]
    }
   ],
   "source": [
    "# Remove Duplicate Entries\n",
    "data = data.drop_duplicates()\n",
    "print(\"Shape after removing duplicates:\", data.shape)"
   ]
  },
  {
   "cell_type": "code",
   "execution_count": null,
   "metadata": {},
   "outputs": [
    {
     "name": "stdout",
     "output_type": "stream",
     "text": [
      "age: removed 183 outliers\n",
      "hours-per-week: removed 8970 outliers\n",
      "capital-gain: applied log transformation\n",
      "capital-loss: applied log transformation\n"
     ]
    }
   ],
   "source": [
    "# Handle Outliers in Numeric Features\n",
    "numeric_cols_iqr = [\"age\", \"hours-per-week\"]   # Apply IQR here\n",
    "skewed_cols = [\"capital-gain\", \"capital-loss\"] # Transform instead of remove\n",
    "\n",
    "# Function: remove outliers with IQR\n",
    "def remove_outliers_iqr(df, col):\n",
    "    Q1 = df[col].quantile(0.25)\n",
    "    Q3 = df[col].quantile(0.75)\n",
    "    IQR = Q3 - Q1\n",
    "    lower = Q1 - 1.5 * IQR\n",
    "    upper = Q3 + 1.5 * IQR\n",
    "    return df[(df[col] >= lower) & (df[col] <= upper)]\n",
    "\n",
    "# Apply IQR only on selected numeric cols\n",
    "for col in numeric_cols_iqr:\n",
    "    before = data.shape[0]\n",
    "    data = remove_outliers_iqr(data, col)\n",
    "    after = data.shape[0]\n",
    "    print(f\"{col}: removed {before - after} outliers\")\n",
    "\n",
    "# Apply log transformation to skewed features\n",
    "import numpy as np\n",
    "for col in skewed_cols:\n",
    "    data[col] = np.log1p(data[col])   # log(1 + x) keeps 0 as 0\n",
    "    print(f\"{col}: applied log transformation\")"
   ]
  },
  {
   "cell_type": "code",
   "execution_count": 106,
   "id": "a1880112",
   "metadata": {},
   "outputs": [
    {
     "name": "stdout",
     "output_type": "stream",
     "text": [
      "age: removed 75 outliers\n",
      "capital-gain: removed 3168 outliers\n",
      "capital-loss: removed 1806 outliers\n",
      "hours-per-week: removed 2736 outliers\n"
     ]
    }
   ],
   "source": [
    "# Handle Outliers in Numeric Features\n",
    "# Define numeric columns that need outlier treatment\n",
    "numeric_cols = [\"age\",\"capital-gain\", \"capital-loss\", \"hours-per-week\"]\n",
    "\n",
    "# Define function to remove outliers using IQR method\n",
    "def remove_outliers_iqr(df, col):\n",
    "    # Calculate first and third quartiles\n",
    "    Q1 = df[col].quantile(0.25)\n",
    "    Q3 = df[col].quantile(0.75)\n",
    "    # Calculate interquartile range\n",
    "    IQR = Q3 - Q1\n",
    "    # Define bounds for outlier detection\n",
    "    lower = Q1 - 1.5 * IQR\n",
    "    upper = Q3 + 1.5 * IQR\n",
    "    # Return only rows within the acceptable range\n",
    "    return df[(df[col] >= lower) & (df[col] <= upper)]\n",
    "\n",
    "# Apply outlier removal to each numeric column\n",
    "for col in numeric_cols:\n",
    "    before = data.shape[0]\n",
    "    data = remove_outliers_iqr(data, col)\n",
    "    after = data.shape[0]\n",
    "    print(f\"{col}: removed {before - after} outliers\")"
   ]
  },
  {
   "cell_type": "code",
   "execution_count": 107,
   "id": "41492f4d",
   "metadata": {},
   "outputs": [],
   "source": [
    "import pandas as pd\n",
    "\n",
    "def preprocess_income_data(df):\n",
    "    # --------------------\n",
    "    # Workclass\n",
    "    # --------------------\n",
    "    workclass_map = {\n",
    "        'Private': 'Private',\n",
    "        'Self-emp-not-inc': 'Private',\n",
    "        'Self-emp-inc': 'Private',\n",
    "        'Federal-gov': 'Government',\n",
    "        'State-gov': 'Government',\n",
    "        'Local-gov': 'Government',\n",
    "        'Without-pay': 'Other/Unemployed',\n",
    "        'Never-worked': 'Other/Unemployed',\n",
    "        '?': 'Other/Unemployed',\n",
    "        'Unknown': 'Unknown'\n",
    "    }\n",
    "    df['workclass'] = df['workclass'].map(workclass_map)\n",
    "\n",
    "    # --------------------\n",
    "    # Education\n",
    "    # --------------------\n",
    "    education_map = {\n",
    "    'Preschool': 'School',\n",
    "    '1st-4th': 'School',\n",
    "    '5th-6th': 'School',\n",
    "    '7th-8th': 'School',\n",
    "    '9th': 'School',\n",
    "    '10th': 'School',\n",
    "    '11th': 'School',\n",
    "    '12th': 'School',\n",
    "\n",
    "    'HS-grad': 'High School',\n",
    "\n",
    "    'Some-college': 'Undergraduate',\n",
    "    'Assoc-acdm': 'Undergraduate',\n",
    "    'Assoc-voc': 'Undergraduate',\n",
    "    'Bachelors': 'Undergraduate',\n",
    "\n",
    "    'Masters': 'Postgraduate',\n",
    "    'Doctorate': 'Postgraduate',\n",
    "    'Prof-school': 'Postgraduate'\n",
    "}\n",
    "\n",
    "    df['education'] = df['education'].map(education_map)\n",
    "\n",
    "    # --------------------\n",
    "    # Marital Status\n",
    "    # --------------------\n",
    "    marital_map = {\n",
    "        'Never-married': 'Single',\n",
    "        'Married-civ-spouse': 'Married',\n",
    "        'Married-AF-spouse': 'Married',\n",
    "        'Married-spouse-absent': 'Married',\n",
    "        'Divorced': 'Previously married',\n",
    "        'Separated': 'Previously married',\n",
    "        'Widowed': 'Previously married'\n",
    "    }\n",
    "    df['marital-status'] = df['marital-status'].map(marital_map)\n",
    "\n",
    "    # --------------------\n",
    "    # Occupation\n",
    "    # --------------------\n",
    "    occupation_map = {\n",
    "        'Craft-repair': 'Blue collar',\n",
    "        'Transport-moving': 'Blue collar',\n",
    "        'Handlers-cleaners': 'Blue collar',\n",
    "        'Farming-fishing': 'Blue collar',\n",
    "        'Machine-op-inspct': 'Blue collar',\n",
    "        'Other-service': 'Service',\n",
    "        'Priv-house-serv': 'Service',\n",
    "        'Protective-serv': 'Service',\n",
    "        'Exec-managerial': 'White collar',\n",
    "        'Prof-specialty': 'White collar',\n",
    "        'Sales': 'White collar',\n",
    "        'Adm-clerical': 'White collar',\n",
    "        'Tech-support': 'White collar',\n",
    "        'Armed-Forces': 'Military',\n",
    "        '?': 'Unknown',\n",
    "        'Unknown': 'Unknown'\n",
    "    }\n",
    "    df['occupation'] = df['occupation'].map(occupation_map)\n",
    "\n",
    "    # --------------------\n",
    "    # Relationship\n",
    "    # --------------------\n",
    "    relationship_map = {\n",
    "        'Husband': 'Partnered',\n",
    "        'Wife': 'Partnered',\n",
    "        'Own-child': 'Child',\n",
    "        'Other-relative': 'Other family',\n",
    "        'Not-in-family': 'Independent',\n",
    "        'Unmarried': 'Independent'\n",
    "    }\n",
    "    df['relationship'] = df['relationship'].map(relationship_map)\n",
    "\n",
    "    return df\n"
   ]
  },
  {
   "cell_type": "code",
   "execution_count": 108,
   "id": "73976742",
   "metadata": {},
   "outputs": [
    {
     "name": "stdout",
     "output_type": "stream",
     "text": [
      "workclass\n",
      "Private             18400\n",
      "Government           4149\n",
      "Other/Unemployed      950\n",
      "Name: count, dtype: int64\n",
      "education\n",
      "Undergraduate    10921\n",
      "High School       7297\n",
      "School            3481\n",
      "Postgraduate      1800\n",
      "Name: count, dtype: int64\n",
      "occupation\n",
      "White collar    12106\n",
      "Blue collar      7508\n",
      "Service          2930\n",
      "Unknown           944\n",
      "Military           11\n",
      "Name: count, dtype: int64\n"
     ]
    }
   ],
   "source": [
    "# Keep only selected features\n",
    "data = data[selected_features]\n",
    "\n",
    "# Preprocess categorical features\n",
    "data = preprocess_income_data(data)\n",
    "\n",
    "# Check cleaned categories\n",
    "print(data['workclass'].value_counts())\n",
    "print(data['education'].value_counts())\n",
    "print(data['occupation'].value_counts())\n"
   ]
  },
  {
   "cell_type": "code",
   "execution_count": 109,
   "metadata": {},
   "outputs": [
    {
     "name": "stdout",
     "output_type": "stream",
     "text": [
      "\n",
      "Final dataset shape: (23499, 11)\n",
      "   age         workclass      education marital-status   occupation  \\\n",
      "0   25           Private         School         Single  Blue collar   \n",
      "1   38           Private    High School        Married  Blue collar   \n",
      "2   28        Government  Undergraduate        Married      Service   \n",
      "6   29  Other/Unemployed    High School         Single      Unknown   \n",
      "8   24           Private  Undergraduate         Single      Service   \n",
      "\n",
      "  relationship  gender  hours-per-week  capital-gain  capital-loss income  \n",
      "0        Child    Male              40           0.0           0.0  <=50K  \n",
      "1    Partnered    Male              50           0.0           0.0  <=50K  \n",
      "2    Partnered    Male              40           0.0           0.0   >50K  \n",
      "6  Independent    Male              40           0.0           0.0  <=50K  \n",
      "8  Independent  Female              40           0.0           0.0  <=50K  \n"
     ]
    }
   ],
   "source": [
    "# Verify Final Dataset\n",
    "print(\"\\nFinal dataset shape:\", data.shape)\n",
    "print(data.head())"
   ]
  },
  {
   "cell_type": "code",
   "execution_count": 110,
   "id": "3ac2ac48",
   "metadata": {},
   "outputs": [
    {
     "name": "stdout",
     "output_type": "stream",
     "text": [
      "\n",
      "✅ Cleaned dataset saved as '../data/income_cleaned.csv'\n"
     ]
    }
   ],
   "source": [
    "# Save Preprocessed Dataset\n",
    "data.to_csv(\"../data/income_cleaned.csv\", index=False)\n",
    "print(\"\\n✅ Cleaned dataset saved as '../data/income_cleaned.csv'\")"
   ]
  },
  {
   "cell_type": "code",
   "execution_count": null,
   "metadata": {},
   "outputs": [],
   "source": []
  },
  {
   "cell_type": "code",
   "execution_count": null,
   "id": "d28d3e6c",
   "metadata": {},
   "outputs": [],
   "source": []
  },
  {
   "cell_type": "code",
   "execution_count": null,
   "metadata": {},
   "outputs": [],
   "source": []
  }
 ],
 "metadata": {
  "kernelspec": {
   "display_name": "Python 3",
   "language": "python",
   "name": "python3"
  },
  "language_info": {
   "codemirror_mode": {
    "name": "ipython",
    "version": 3
   },
   "file_extension": ".py",
   "mimetype": "text/x-python",
   "name": "python",
   "nbconvert_exporter": "python",
   "pygments_lexer": "ipython3",
   "version": "3.13.3"
  }
 },
 "nbformat": 4,
 "nbformat_minor": 5
}
