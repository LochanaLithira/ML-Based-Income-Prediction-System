{
 "cells": [
  {
   "cell_type": "code",
   "execution_count": 76,
   "id": "7af566de",
   "metadata": {},
   "outputs": [],
   "source": [
    "# Import Required Libraries\n",
    "import pandas as pd\n",
    "import numpy as np"
   ]
  },
  {
   "cell_type": "code",
   "execution_count": 77,
   "id": "fcdccc91",
   "metadata": {},
   "outputs": [
    {
     "name": "stdout",
     "output_type": "stream",
     "text": [
      "Initial shape: (48842, 15)\n"
     ]
    }
   ],
   "source": [
    "# Load the Dataset\n",
    "data = pd.read_csv(\"../data/income.csv\")\n",
    "print(\"Initial shape:\", data.shape)"
   ]
  },
  {
   "cell_type": "code",
   "execution_count": 78,
   "id": "22d64e42",
   "metadata": {},
   "outputs": [],
   "source": [
    "# Select Only Relevant Features for the Income Prediction Model\n",
    "selected_features = [\"age\",\"workclass\",\"education\",\"marital-status\",\"occupation\",\"relationship\",\"gender\",\"hours-per-week\",\"capital-gain\",\"capital-loss\",\"income\"]\n",
    "data = data[selected_features]"
   ]
  },
  {
   "cell_type": "code",
   "execution_count": 79,
   "id": "56df5ee5",
   "metadata": {},
   "outputs": [
    {
     "name": "stdout",
     "output_type": "stream",
     "text": [
      "Shape after removing duplicates: (40437, 11)\n"
     ]
    }
   ],
   "source": [
    "# Remove Duplicate Entries\n",
    "data = data.drop_duplicates()\n",
    "print(\"Shape after removing duplicates:\", data.shape)"
   ]
  },
  {
   "cell_type": "code",
   "execution_count": 80,
   "id": "41492f4d",
   "metadata": {},
   "outputs": [
    {
     "name": "stdout",
     "output_type": "stream",
     "text": [
      "Missing values after handling:\n",
      " age               0\n",
      "workclass         0\n",
      "education         0\n",
      "marital-status    0\n",
      "occupation        0\n",
      "relationship      0\n",
      "gender            0\n",
      "hours-per-week    0\n",
      "capital-gain      0\n",
      "capital-loss      0\n",
      "income            0\n",
      "dtype: int64\n"
     ]
    }
   ],
   "source": [
    "# Handle Missing and Categorical Data\n",
    "# Replace placeholder values (?) with proper NaN values \n",
    "data = data.replace(\"?\", np.nan)\n",
    "\n",
    "# Define categorical columns for processing\n",
    "categorical_cols = [\"workclass\", \"education\", \"marital-status\", \n",
    "                    \"occupation\", \"relationship\", \n",
    "                    \"gender\"]\n",
    "\n",
    "# Fill missing categorical values with \"Unknown\" instead of dropping rows\n",
    "for col in categorical_cols:\n",
    "    data[col] = data[col].fillna(\"Unknown\")\n",
    "\n",
    "# Convert income target variable to binary format (1 for >50K, 0 for <=50K)\n",
    "data[\"income\"] = data[\"income\"].astype(str).str.strip()\n",
    "data[\"income\"] = data[\"income\"].apply(lambda x: 1 if x == \">50K\" else 0)\n",
    "\n",
    "# Verify no missing values remain in the dataset\n",
    "print(\"Missing values after handling:\\n\", data.isnull().sum())"
   ]
  },
  {
   "cell_type": "code",
   "execution_count": 81,
   "id": "a1880112",
   "metadata": {},
   "outputs": [
    {
     "name": "stdout",
     "output_type": "stream",
     "text": [
      "age: removed 183 outliers\n",
      "capital-gain: removed 3965 outliers\n",
      "capital-loss: removed 2248 outliers\n",
      "hours-per-week: removed 6769 outliers\n"
     ]
    }
   ],
   "source": [
    "# Handle Outliers in Numeric Features\n",
    "# Define numeric columns that need outlier treatment\n",
    "numeric_cols = [\"age\",\"capital-gain\", \"capital-loss\", \"hours-per-week\"]\n",
    "\n",
    "# Define function to remove outliers using IQR method\n",
    "def remove_outliers_iqr(df, col):\n",
    "    # Calculate first and third quartiles\n",
    "    Q1 = df[col].quantile(0.25)\n",
    "    Q3 = df[col].quantile(0.75)\n",
    "    # Calculate interquartile range\n",
    "    IQR = Q3 - Q1\n",
    "    # Define bounds for outlier detection\n",
    "    lower = Q1 - 1.5 * IQR\n",
    "    upper = Q3 + 1.5 * IQR\n",
    "    # Return only rows within the acceptable range\n",
    "    return df[(df[col] >= lower) & (df[col] <= upper)]\n",
    "\n",
    "# Apply outlier removal to each numeric column\n",
    "for col in numeric_cols:\n",
    "    before = data.shape[0]\n",
    "    data = remove_outliers_iqr(data, col)\n",
    "    after = data.shape[0]\n",
    "    print(f\"{col}: removed {before - after} outliers\")"
   ]
  },
  {
   "cell_type": "code",
   "execution_count": 82,
   "id": "41492f4d",
   "metadata": {},
   "outputs": [],
   "source": [
    "def preprocess_income_data(df):\n",
    "    # --------------------\n",
    "    # Workclass\n",
    "    # --------------------\n",
    "    workclass_map = {\n",
    "        'Private': 'Private',\n",
    "        'Self-emp-not-inc': 'Private',\n",
    "        'Self-emp-inc': 'Private',\n",
    "        'Federal-gov': 'Government',\n",
    "        'State-gov': 'Government',\n",
    "        'Local-gov': 'Government',\n",
    "        'Without-pay': 'Other/Unemployed',\n",
    "        'Never-worked': 'Other/Unemployed',\n",
    "        '?': 'Other/Unemployed',\n",
    "        'Unknown': 'Unknown'\n",
    "    }\n",
    "    df['workclass'] = df['workclass'].map(workclass_map)\n",
    "\n",
    "    # --------------------\n",
    "    # Education\n",
    "    # --------------------\n",
    "    education_map = {\n",
    "        'Preschool': 'School',\n",
    "        '1st-4th': 'School',\n",
    "        '5th-6th': 'School',\n",
    "        '7th-8th': 'School',\n",
    "        '9th': 'School',\n",
    "        '10th': 'School',\n",
    "        '11th': 'School',\n",
    "        '12th': 'School',\n",
    "        'HS-grad': 'High School',\n",
    "        'Some-college': 'Undergraduate',\n",
    "        'Assoc-acdm': 'Undergraduate',\n",
    "        'Assoc-voc': 'Undergraduate',\n",
    "        'Bachelors': 'Undergraduate',\n",
    "        'Masters': 'Postgraduate',\n",
    "        'Doctorate': 'Postgraduate',\n",
    "        'Prof-school': 'Postgraduate'\n",
    "    }\n",
    "    df['education'] = df['education'].map(education_map)\n",
    "\n",
    "    # --------------------\n",
    "    # Marital Status\n",
    "    # --------------------\n",
    "    marital_map = {\n",
    "        'Never-married': 'Single',\n",
    "        'Married-civ-spouse': 'Married',\n",
    "        'Married-AF-spouse': 'Married',\n",
    "        'Married-spouse-absent': 'Married',\n",
    "        'Divorced': 'Previously married',\n",
    "        'Separated': 'Previously married',\n",
    "        'Widowed': 'Previously married'\n",
    "    }\n",
   
