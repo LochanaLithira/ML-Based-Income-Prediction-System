{
 "cells": [
  {
   "cell_type": "code",
   "execution_count": null,
   "id": "7af566de",
   "metadata": {},
   "outputs": [],
   "source": [
    "# Import Required Libraries\n",
    "import pandas as pd\n",
    "import numpy as np"
   ]
  },
  {
   "cell_type": "code",
   "execution_count": null,
   "id": "fcdccc91",
   "metadata": {},
   "outputs": [
    {
     "name": "stdout",
     "output_type": "stream",
     "text": [
      "Initial shape: (48842, 15)\n"
     ]
    }
   ],
   "source": [
    "# Load the Dataset\n",
    "data = pd.read_csv(\"../data/income.csv\")\n",
    "print(\"Initial shape:\", data.shape)"
   ]
  },
  {
   "cell_type": "code",
   "execution_count": null,
   "id": "22d64e42",
   "metadata": {},
   "outputs": [],
   "source": [
    "# Select Only Relevant Features for the Income Prediction Model\n",
    "selected_features = [\"age\",\"workclass\",\"education\",\"marital-status\",\"occupation\",\"relationship\",\"gender\",\"hours-per-week\",\"capital-gain\",\"capital-loss\",\"income\"]\n",
    "data = data[selected_features]"
   ]
  },
  {
   "cell_type": "code",
   "execution_count": null,
   "id": "56df5ee5",
   "metadata": {},
   "outputs": [
    {
     "name": "stdout",
     "output_type": "stream",
     "text": [
      "Shape after removing duplicates: (40437, 11)\n"
     ]
    }
   ],
   "source": [
    "# Remove Duplicate Entries\n",
    "data = data.drop_duplicates()\n",
    "print(\"Shape after removing duplicates:\", data.shape)"
   ]
  },
  {
   "cell_type": "code",
   "execution_count": null,
   "metadata": {},
   "outputs": [
    {
     "name": "stdout",
     "output_type": "stream",
     "text": [
      "Missing values after handling:\n",
      " age               0\n",
      "workclass         0\n",
      "education         0\n",
      "marital-status    0\n",
      "occupation        0\n",
      "relationship      0\n",
      "gender            0\n",
      "hours-per-week    0\n",
      "capital-gain      0\n",
      "capital-loss      0\n",
      "income            0\n",
      "dtype: int64\n",
      " age               0\n",
      "workclass         0\n",
      "education         0\n",
      "marital-status    0\n",
      "occupation        0\n",
      "relationship      0\n",
      "gender            0\n",
      "hours-per-week    0\n",
      "capital-gain      0\n",
      "capital-loss      0\n",
      "income            0\n",
      "dtype: int64\n"
     ]
    }
   ],
   "source": [
    "# Handle Missing and Categorical Data\n",
    "# Replace placeholder values (?) with proper NaN values \n",
    "data = data.replace(\"?\", np.nan)\n",
    "\n",
    "# Define categorical columns for processing\n",
    "categorical_cols = [\"workclass\", \"education\", \"marital-status\", \n",
    "                    \"occupation\", \"relationship\", \n",
    "                    \"gender\"]\n",
    "\n",
    "# Fill missing categorical values with \"Unknown\" instead of dropping rows\n",
    "for col in categorical_cols:\n",
    "    data[col] = data[col].fillna(\"Unknown\")\n",
    "\n",
    "# Convert income target variable to binary format (1 for >50K, 0 for <=50K)\n",
    "data[\"income\"] = data[\"income\"].astype(str).str.strip()\n",
    "data[\"income\"] = data[\"income\"].apply(lambda x: 1 if x == \">50K\" else 0)\n",
    "\n",
    "# Verify no missing values remain in the dataset\n",
    "print(\"Missing values after handling:\\n\", data.isnull().sum())"
   ]
  },
  {
   "cell_type": "code",
   "execution_count": null,
   "id": "a1880112",
   "metadata": {},
   "outputs": [
    {
     "name": "stdout",
     "output_type": "stream",
     "text": [
      "age: removed 183 outliers\n",
      "capital-gain: removed 3965 outliers\n",
      "capital-loss: removed 2248 outliers\n",
      "hours-per-week: removed 6769 outliers\n"
     ]
    }
   ],
   "source": [
    "# Handle Outliers in Numeric Features\n",
    "# Define numeric columns that need outlier treatment\n",
    "numeric_cols = [\"age\",\"capital-gain\", \"capital-loss\", \"hours-per-week\"]\n",
    "\n",
    "# Define function to remove outliers using IQR method\n",
    "def remove_outliers_iqr(df, col):\n",
    "    # Calculate first and third quartiles\n",
    "    Q1 = df[col].quantile(0.25)\n",
    "    Q3 = df[col].quantile(0.75)\n",
    "    # Calculate interquartile range\n",
    "    IQR = Q3 - Q1\n",
    "    # Define bounds for outlier detection\n",
    "    lower = Q1 - 1.5 * IQR\n",
    "    upper = Q3 + 1.5 * IQR\n",
    "    # Return only rows within the acceptable range\n",
    "    return df[(df[col] >= lower) & (df[col] <= upper)]\n",
    "\n",
    "# Apply outlier removal to each numeric column\n",
    "for col in numeric_cols:\n",
    "    before = data.shape[0]\n",
    "    data = remove_outliers_iqr(data, col)\n",
    "    after = data.shape[0]\n",
    "    print(f\"{col}: removed {before - after} outliers\")"
   ]
  },
  {
   "cell_type": "code",
   "execution_count": null,
   "metadata": {},
   "outputs": [
    {
     "name": "stdout",
     "output_type": "stream",
     "text": [
      "\n",
      "Final dataset shape: (27272, 11)\n",
      "   age  workclass     education      marital-status         occupation  \\\n",
      "0   25    Private          11th       Never-married  Machine-op-inspct   \n",
      "1   38    Private       HS-grad  Married-civ-spouse    Farming-fishing   \n",
      "2   28  Local-gov    Assoc-acdm  Married-civ-spouse    Protective-serv   \n",
      "4   18    Unknown  Some-college       Never-married            Unknown   \n",
      "5   34    Private          10th       Never-married      Other-service   \n",
      "\n",
      "    relationship  gender  hours-per-week  capital-gain  capital-loss  income  \n",
      "0      Own-child    Male              40             0             0       0  \n",
      "1        Husband    Male              50             0             0       0  \n",
      "2        Husband    Male              40             0             0       1  \n",
      "4      Own-child  Female              30             0             0       0  \n",
      "5  Not-in-family    Male              30             0             0       0  \n"
     ]
    }
   ],
   "source": [
    "# Verify Final Dataset\n",
    "print(\"\\nFinal dataset shape:\", data.shape)\n",
    "print(data.head())"
   ]
  },
  {
   "cell_type": "code",
   "execution_count": null,
   "id": "3ac2ac48",
   "metadata": {},
   "outputs": [
    {
     "name": "stdout",
     "output_type": "stream",
     "text": [
      "\n",
      "✅ Cleaned dataset saved as '../data/income_cleaned.csv'\n"
     ]
    }
   ],
   "source": [
    "# Save Preprocessed Dataset\n",
    "data.to_csv(\"../data/income_cleaned.csv\", index=False)\n",
    "print(\"\\n✅ Cleaned dataset saved as '../data/income_cleaned.csv'\")"
   ]
  },
  {
   "cell_type": "code",
   "execution_count": null,
   "metadata": {},
   "outputs": [],
   "source": []
  },
  {
   "cell_type": "code",
   "execution_count": null,
   "id": "d28d3e6c",
   "metadata": {},
   "outputs": [],
   "source": []
  },
  {
   "cell_type": "code",
   "execution_count": null,
   "metadata": {},
   "outputs": [],
   "source": []
  }
 ],
 "metadata": {
  "kernelspec": {
   "display_name": ".venv (3.13.3)",
   "language": "python",
   "name": "python3"
  },
  "language_info": {
   "codemirror_mode": {
    "name": "ipython",
    "version": 3
   },
   "file_extension": ".py",
   "mimetype": "text/x-python",
   "name": "python",
   "nbconvert_exporter": "python",
   "pygments_lexer": "ipython3",
   "version": "3.13.3"
  }
 },
 "nbformat": 4,
 "nbformat_minor": 5
}
