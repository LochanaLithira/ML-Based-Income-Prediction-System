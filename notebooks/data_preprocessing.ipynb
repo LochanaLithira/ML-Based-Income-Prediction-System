{
 "cells": [
  {
   "cell_type": "code",
   "execution_count": 131,
   "id": "7af566de",
   "metadata": {},
   "outputs": [],
   "source": [
    "# Import Required Libraries\n",
    "import pandas as pd\n",
    "import numpy as np"
   ]
  },
  {
   "cell_type": "code",
   "execution_count": 132,
   "id": "fcdccc91",
   "metadata": {},
   "outputs": [
    {
     "name": "stdout",
     "output_type": "stream",
     "text": [
      "Initial shape: (48842, 15)\n"
     ]
    }
   ],
   "source": [
    "# Load the Dataset\n",
    "data = pd.read_csv(\"../data/income.csv\")\n",
    "print(\"Initial shape:\", data.shape)"
   ]
  },
  {
   "cell_type": "code",
   "execution_count": 133,
   "id": "22d64e42",
   "metadata": {},
   "outputs": [],
   "source": [
    "selected_features = [\"age\",\"workclass\",\"education\",\"marital-status\",\"occupation\",\"relationship\",\"gender\",\"hours-per-week\",\"capital-gain\",\"capital-loss\",\"income\"]\n",
    "data = data[selected_features]"
   ]
  },
  {
   "cell_type": "code",
   "execution_count": 134,
   "id": "56df5ee5",
   "metadata": {},
   "outputs": [
    {
     "name": "stdout",
     "output_type": "stream",
     "text": [
      "Shape after removing duplicates: (40437, 11)\n"
     ]
    }
   ],
   "source": [
    "# Remove Duplicate Entries\n",
    "data = data.drop_duplicates()\n",
    "print(\"Shape after removing duplicates:\", data.shape)"
   ]
  },
  {
   "cell_type": "code",
   "execution_count": 135,
   "metadata": {},
   "outputs": [
    {
     "name": "stdout",
     "output_type": "stream",
     "text": [
      "Missing values after handling:\n",
      " age               0\n",
      "workclass         0\n",
      "education         0\n",
      "marital-status    0\n",
      "occupation        0\n",
      "relationship      0\n",
      "gender            0\n",
      "hours-per-week    0\n",
      "capital-gain      0\n",
      "capital-loss      0\n",
      "income            0\n",
      "dtype: int64\n"
     ]
    }
   ],
   "source": [
    "# Handle Missing and Categorical Data\n",
    "# Replace placeholder values (?) with proper NaN values \n",
    "data = data.replace(\"?\", np.nan)\n",
    "\n",
    "# Define categorical columns for processing\n",
    "categorical_cols = [\"workclass\", \"education\", \"marital-status\", \n",
    "                    \"occupation\", \"relationship\", \n",
    "                    \"gender\"]\n",
    "\n",
    "# Fill missing categorical values with \"Unknown\" instead of dropping rows\n",
    "for col in categorical_cols:\n",
    "    data[col] = data[col].fillna(\"Unknown\")\n",
    "\n",
    "# Convert income target variable to binary format (1 for >50K, 0 for <=50K)\n",
    "data[\"income\"] = data[\"income\"].astype(str).str.strip()\n",
    "data[\"income\"] = data[\"income\"].apply(lambda x: 1 if x == \">50K\" else 0)\n",
    "\n",
    "# Verify no missing values remain in the dataset\n",
    "print(\"Missing values after handling:\\n\", data.isnull().sum())"
   ]
  },
  {
   "cell_type": "code",
   "execution_count": 136,
   "id": "a1880112",
   "metadata": {},
   "outputs": [
    {
     "name": "stdout",
     "output_type": "stream",
     "text": [
      "age: removed 183 outliers\n",
      "hours-per-week: removed 8970 outliers\n",
      "capital-gain: applied log transformation\n",
      "capital-loss: applied log transformation\n"
     ]
    }
   ],
   "source": [
    "# Handle Outliers in Numeric Features\n",
    "numeric_cols_iqr = [\"age\", \"hours-per-week\"]   # Apply IQR here\n",
    "skewed_cols = [\"capital-gain\", \"capital-loss\"] # Transform instead of remove\n",
    "\n",
    "# Function: remove outliers with IQR\n",
    "def remove_outliers_iqr(df, col):\n",
    "    Q1 = df[col].quantile(0.25)\n",
    "    Q3 = df[col].quantile(0.75)\n",
    "    IQR = Q3 - Q1\n",
    "    lower = Q1 - 1.5 * IQR\n",
    "    upper = Q3 + 1.5 * IQR\n",
    "    return df[(df[col] >= lower) & (df[col] <= upper)]\n",
    "\n",
    "# Apply IQR only on selected numeric cols\n",
    "for col in numeric_cols_iqr:\n",
    "    before = data.shape[0]\n",
    "    data = remove_outliers_iqr(data, col)\n",
    "    after = data.shape[0]\n",
    "    print(f\"{col}: removed {before - after} outliers\")\n",
    "\n",
    "# Apply log transformation to skewed features\n",
    "import numpy as np\n",
    "for col in skewed_cols:\n",
    "    data[col] = np.log1p(data[col])   # log(1 + x) keeps 0 as 0\n",
    "    print(f\"{col}: applied log transformation\")"
   ]
  },
  {
   "cell_type": "code",
   "execution_count": 137,
   "id": "41492f4d",
   "metadata": {},
   "outputs": [],
   "source": [
    "import pandas as pd\n",
    "\n",
    "def preprocess_income_data(df):\n",
    "    # --------------------\n",
    "    # Workclass\n",
    "    # --------------------\n",
    "    workclass_map = {\n",
    "        'Private': 'Private',\n",
    "        'Self-emp-not-inc': 'Private',\n",
    "        'Self-emp-inc': 'Private',\n",
    "        'Federal-gov': 'Government',\n",
    "        'State-gov': 'Government',\n",
    "        'Local-gov': 'Government',\n",
    "        'Without-pay': 'Other/Unemployed',\n",
    "        'Never-worked': 'Other/Unemployed',\n",
    "        '?': 'Other/Unemployed',\n",
    "        'Unknown': 'Unknown'\n",
    "    }\n",
    "    df['workclass'] = df['workclass'].map(workclass_map)\n",
    "\n",
    "    # --------------------\n",
    "    # Education\n",
    "    # --------------------\n",
    "    education_map = {\n",
    "    'Preschool': 'School',\n",
    "    '1st-4th': 'School',\n",
    "    '5th-6th': 'School',\n",
    "    '7th-8th': 'School',\n",
    "    '9th': 'School',\n",
    "    '10th': 'School',\n",
    "    '11th': 'School',\n",
    "    '12th': 'School',\n",
    "\n",
    "    'HS-grad': 'High School',\n",
    "\n",
    "    'Some-college': 'Undergraduate',\n",
    "    'Assoc-acdm': 'Undergraduate',\n",
    "    'Assoc-voc': 'Undergraduate',\n",
    "    'Bachelors': 'Undergraduate',\n",
    "\n",
    "    'Masters': 'Postgraduate',\n",
    "    'Doctorate': 'Postgraduate',\n",
    "    'Prof-school': 'Postgraduate'\n",
    "}\n",
    "\n",
    "    df['education'] = df['education'].map(education_map)\n",
    "\n",
    "    # --------------------\n",
    "    # Marital Status\n",
    "    # --------------------\n",
    "    marital_map = {\n",
    "        'Never-married': 'Single',\n",
    "        'Married-civ-spouse': 'Married',\n",
    "        'Married-AF-spouse': 'Married',\n",
    "        'Married-spouse-absent': 'Married',\n",
    "        'Divorced': 'Previously married',\n",
    "        'Separated': 'Previously married',\n",
    "        'Widowed': 'Previously married'\n",
    "    }\n",
    "    df['marital-status'] = df['marital-status'].map(marital_map)\n",
    "\n",
    "    # --------------------\n",
    "    # Occupation\n",
    "    # --------------------\n",
    "    occupation_map = {\n",
    "        'Craft-repair': 'Blue collar',\n",
    "        'Transport-moving': 'Blue collar',\n",
    "        'Handlers-cleaners': 'Blue collar',\n",
    "        'Farming-fishing': 'Blue collar',\n",
    "        'Machine-op-inspct': 'Blue collar',\n",
    "        'Other-service': 'Service',\n",
    "        'Priv-house-serv': 'Service',\n",
    "        'Protective-serv': 'Service',\n",
    "        'Exec-managerial': 'White collar',\n",
    "        'Prof-specialty': 'White collar',\n",
    "        'Sales': 'White collar',\n",
    "        'Adm-clerical': 'White collar',\n",
    "        'Tech-support': 'White collar',\n",
    "        'Armed-Forces': 'Military',\n",
    "        '?': 'Unknown',\n",
    "        'Unknown': 'Unknown'\n",
    "    }\n",
    "    df['occupation'] = df['occupation'].map(occupation_map)\n",
    "\n",
    "    # --------------------\n",
    "    # Relationship\n",
    "    # --------------------\n",
    "    relationship_map = {\n",
    "        'Husband': 'Partnered',\n",
    "        'Wife': 'Partnered',\n",
    "        'Own-child': 'Child',\n",
    "        'Other-relative': 'Other family',\n",
    "        'Not-in-family': 'Independent',\n",
    "        'Unmarried': 'Independent'\n",
    "    }\n",
    "    df['relationship'] = df['relationship'].map(relationship_map)\n",
    "\n",
    "    return df\n"
   ]
  },
  {
   "cell_type": "code",
   "execution_count": 138,
   "id": "73976742",
   "metadata": {},
   "outputs": [
    {
     "name": "stdout",
     "output_type": "stream",
     "text": [
      "workclass\n",
      "Private             24738\n",
      "Government           5200\n",
      "Unknown              1329\n",
      "Other/Unemployed       17\n",
      "Name: count, dtype: int64\n",
      "education\n",
      "Undergraduate    14661\n",
      "High School       9498\n",
      "School            4278\n",
      "Postgraduate      2847\n",
      "Name: count, dtype: int64\n",
      "occupation\n",
      "White collar    16644\n",
      "Blue collar      9514\n",
      "Service          3777\n",
      "Unknown          1336\n",
      "Military           13\n",
      "Name: count, dtype: int64\n"
     ]
    }
   ],
   "source": [
    "# Keep only selected features\n",
    "data = data[selected_features]\n",
    "\n",
    "# Preprocess categorical features\n",
    "data = preprocess_income_data(data)\n",
    "\n",
    "# Check cleaned categories\n",
    "print(data['workclass'].value_counts())\n",
    "print(data['education'].value_counts())\n",
    "print(data['occupation'].value_counts())\n"
   ]
  },
  {
   "cell_type": "code",
   "execution_count": 139,
   "metadata": {},
   "outputs": [
    {
     "name": "stdout",
     "output_type": "stream",
     "text": [
      "\n",
      "Final dataset shape: (31284, 11)\n",
      "   age   workclass      education marital-status   occupation relationship  \\\n",
      "0   25     Private         School         Single  Blue collar        Child   \n",
      "1   38     Private    High School        Married  Blue collar    Partnered   \n",
      "2   28  Government  Undergraduate        Married      Service    Partnered   \n",
      "3   44     Private  Undergraduate        Married  Blue collar    Partnered   \n",
      "4   18     Unknown  Undergraduate         Single      Unknown        Child   \n",
      "\n",
      "   gender  hours-per-week  capital-gain  capital-loss  income  \n",
      "0    Male              40      0.000000           0.0       0  \n",
      "1    Male              50      0.000000           0.0       0  \n",
      "2    Male              40      0.000000           0.0       1  \n",
      "3    Male              40      8.947546           0.0       1  \n",
      "4  Female              30      0.000000           0.0       0  \n"
     ]
    }
   ],
   "source": [
    "# Verify Final Dataset\n",
    "print(\"\\nFinal dataset shape:\", data.shape)\n",
    "print(data.head())"
   ]
  },
  {
   "cell_type": "code",
   "execution_count": 140,
   "id": "3ac2ac48",
   "metadata": {},
   "outputs": [
    {
     "name": "stdout",
     "output_type": "stream",
     "text": [
      "\n",
      "✅ Cleaned dataset saved as '../data/income_cleaned.csv'\n"
     ]
    }
   ],
   "source": [
    "# Save Preprocessed Dataset\n",
    "data.to_csv(\"../data/income_cleaned.csv\", index=False)\n",
    "print(\"\\n✅ Cleaned dataset saved as '../data/income_cleaned.csv'\")"
   ]
  },
  {
   "cell_type": "code",
   "execution_count": null,
   "metadata": {},
   "outputs": [],
   "source": []
  },
  {
   "cell_type": "code",
   "execution_count": null,
   "id": "d28d3e6c",
   "metadata": {},
   "outputs": [],
   "source": []
  },
  {
   "cell_type": "code",
   "execution_count": null,
   "metadata": {},
   "outputs": [],
   "source": []
  }
 ],
 "metadata": {
  "kernelspec": {
   "display_name": "Python 3",
   "language": "python",
   "name": "python3"
  },
  "language_info": {
   "codemirror_mode": {
    "name": "ipython",
    "version": 3
   },
   "file_extension": ".py",
   "mimetype": "text/x-python",
   "name": "python",
   "nbconvert_exporter": "python",
   "pygments_lexer": "ipython3",
   "version": "3.13.3"
  }
 },
 "nbformat": 4,
 "nbformat_minor": 5
}
