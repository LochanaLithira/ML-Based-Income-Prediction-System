{
 "cells": [
  {
   "cell_type": "code",
   "execution_count": 44,
   "id": "85e03428",
   "metadata": {},
   "outputs": [],
   "source": [
    "import pandas as pd\n",
    "import numpy as np\n",
    "from sklearn.model_selection import train_test_split\n",
    "from sklearn.preprocessing import OneHotEncoder, StandardScaler\n",
    "from sklearn.compose import ColumnTransformer\n",
    "from sklearn.pipeline import Pipeline\n",
    "from sklearn.linear_model import LogisticRegression\n",
    "from sklearn.tree import DecisionTreeClassifier\n",
    "from sklearn.ensemble import RandomForestClassifier\n",
    "from sklearn.metrics import accuracy_score, confusion_matrix, classification_report\n",
    "import joblib\n"
   ]
  },
  {
   "cell_type": "code",
   "execution_count": 45,
   "id": "64435a5d",
   "metadata": {},
   "outputs": [
    {
     "name": "stdout",
     "output_type": "stream",
     "text": [
      "Dataset shape: (27272, 11)\n"
     ]
    }
   ],
   "source": [
    "# Load the Preprocessed Dataset\n",
    "data = pd.read_csv(\"../data/income_cleaned.csv\")\n",
    "print(\"Dataset shape:\", data.shape)"
   ]
  },
  {
   "cell_type": "code",
   "execution_count": 46,
   "id": "16d0b1a9",
   "metadata": {},
   "outputs": [],
   "source": [
    "# Separate Features and Target Variable\n",
    "X = data.drop(\"income\", axis=1)\n",
    "y = data[\"income\"]"
   ]
  },
  {
   "cell_type": "code",
   "execution_count": 47,
   "id": "e6fce289",
   "metadata": {},
   "outputs": [
    {
     "name": "stdout",
     "output_type": "stream",
     "text": [
      "Training set shape: (21817, 10)\n",
      "Test set shape: (5455, 10)\n"
     ]
    }
   ],
   "source": [
    "numeric_cols = [\"age\", \"capital-gain\", \"capital-loss\", \"hours-per-week\"]\n",
    "categorical_cols = [\"workclass\", \"education\", \"marital-status\", \"occupation\", \"relationship\", \"gender\"]\n",
    "\n",
    "# Split Data into Training and Test Sets\n",
    "X_train, X_test, y_train, y_test = train_test_split(\n",
    "    X, y, test_size=0.2, random_state=42, stratify=y\n",
    ")\n",
    "print(\"Training set shape:\", X_train.shape)\n",
    "print(\"Test set shape:\", X_test.shape)"
   ]
  },
  {
   "cell_type": "code",
   "execution_count": 48,
   "id": "de814e46",
   "metadata": {},
   "outputs": [],
   "source": [
    "preprocessor = ColumnTransformer(\n",
    "    transformers=[\n",
    "        (\"num\", StandardScaler(), numeric_cols),\n",
    "        (\"cat\", OneHotEncoder(handle_unknown='ignore', sparse_output=False), categorical_cols)\n",
    "    ]\n",
    ")"
   ]
  },
  {
   "cell_type": "code",
   "execution_count": 49,
   "id": "484fa73c",
   "metadata": {},
   "outputs": [],
   "source": [
    "pipelines = {\n",
    "    \"Logistic Regression\": Pipeline([\n",
    "        (\"preprocessor\", preprocessor),\n",
    "        (\"classifier\", LogisticRegression(max_iter=1000, random_state=42))\n",
    "    ]),\n",
    "    \"Decision Tree\": Pipeline([\n",
    "        (\"preprocessor\", preprocessor),\n",
    "        (\"classifier\", DecisionTreeClassifier(random_state=42))\n",
    "    ]),\n",
    "    \"Random Forest\": Pipeline([\n",
    "        (\"preprocessor\", preprocessor),\n",
    "        (\"classifier\", RandomForestClassifier(n_estimators=100, random_state=42))\n",
    "    ])\n",
    "}"
   ]
  },
  {
   "cell_type": "code",
   "execution_count": 50,
   "id": "f28ff378",
   "metadata": {},
   "outputs": [
    {
     "name": "stdout",
     "output_type": "stream",
     "text": [
      "\n",
      "--- Logistic Regression ---\n",
      "Accuracy: 0.8399633363886343\n",
      "Confusion Matrix:\n",
      " [[4088  294]\n",
      " [ 579  494]]\n",
      "Classification Report:\n",
      "               precision    recall  f1-score   support\n",
      "\n",
      "           0       0.88      0.93      0.90      4382\n",
      "           1       0.63      0.46      0.53      1073\n",
      "\n",
      "    accuracy                           0.84      5455\n",
      "   macro avg       0.75      0.70      0.72      5455\n",
      "weighted avg       0.83      0.84      0.83      5455\n",
      "\n",
      "\n",
      "--- Decision Tree ---\n",
      "Accuracy: 0.7589367552703942\n",
      "Confusion Matrix:\n",
      " [[3733  649]\n",
      " [ 666  407]]\n",
      "Classification Report:\n",
      "               precision    recall  f1-score   support\n",
      "\n",
      "           0       0.85      0.85      0.85      4382\n",
      "           1       0.39      0.38      0.38      1073\n",
      "\n",
      "    accuracy                           0.76      5455\n",
      "   macro avg       0.62      0.62      0.62      5455\n",
      "weighted avg       0.76      0.76      0.76      5455\n",
      "\n",
      "\n",
      "--- Random Forest ---\n",
      "Accuracy: 0.7912007332722273\n",
      "Confusion Matrix:\n",
      " [[3898  484]\n",
      " [ 655  418]]\n",
      "Classification Report:\n",
      "               precision    recall  f1-score   support\n",
      "\n",
      "           0       0.86      0.89      0.87      4382\n",
      "           1       0.46      0.39      0.42      1073\n",
      "\n",
      "    accuracy                           0.79      5455\n",
      "   macro avg       0.66      0.64      0.65      5455\n",
      "weighted avg       0.78      0.79      0.78      5455\n",
      "\n"
     ]
    }
   ],
   "source": [
    "accuracies = {}\n",
    "for name, pipeline in pipelines.items():\n",
    "    pipeline.fit(X_train, y_train)\n",
    "    y_pred = pipeline.predict(X_test)\n",
    "    \n",
    "    acc = accuracy_score(y_test, y_pred)\n",
    "    accuracies[name] = acc\n",
    "    \n",
    "    print(f\"\\n--- {name} ---\")\n",
    "    print(\"Accuracy:\", acc)\n",
    "    print(\"Confusion Matrix:\\n\", confusion_matrix(y_test, y_pred))\n",
    "    print(\"Classification Report:\\n\", classification_report(y_test, y_pred))"
   ]
  },
  {
   "cell_type": "code",
   "execution_count": 51,
   "id": "46efe248",
   "metadata": {},
   "outputs": [
    {
     "name": "stdout",
     "output_type": "stream",
     "text": [
      "\n",
      "✅ Best model pipeline (Logistic Regression) saved as '../models/best_income_model_pipeline.pkl'\n"
     ]
    }
   ],
   "source": [
    "best_model_name = max(accuracies, key=accuracies.get)\n",
    "best_pipeline = pipelines[best_model_name]\n",
    "\n",
    "model_path = \"../models/best_income_model_pipeline.pkl\"\n",
    "joblib.dump(best_pipeline, model_path)\n",
    "\n",
    "print(f\"\\n✅ Best model pipeline ({best_model_name}) saved as '{model_path}'\")"
   ]
  }
 ],
 "metadata": {
  "kernelspec": {
   "display_name": ".venv (3.13.3)",
   "language": "python",
   "name": "python3"
  },
  "language_info": {
   "codemirror_mode": {
    "name": "ipython",
    "version": 3
   },
   "file_extension": ".py",
   "mimetype": "text/x-python",
   "name": "python",
   "nbconvert_exporter": "python",
   "pygments_lexer": "ipython3",
   "version": "3.13.3"
  }
 },
 "nbformat": 4,
 "nbformat_minor": 5
}
